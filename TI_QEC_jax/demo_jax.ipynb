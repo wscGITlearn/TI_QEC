{
 "cells": [
  {
   "cell_type": "markdown",
   "metadata": {},
   "source": [
    "# QEC 测试"
   ]
  },
  {
   "cell_type": "code",
   "execution_count": 1,
   "metadata": {},
   "outputs": [
    {
     "name": "stdout",
     "output_type": "stream",
     "text": [
      "PlanarCode(7, 7)\n",
      "PhaseFlipErrorModel()\n"
     ]
    }
   ],
   "source": [
    "%run ../qsu.ipynb  # color-printing functions\n",
    "import numpy as np\n",
    "from qecsim import paulitools as pt\n",
    "from qecsim.models.generic import DepolarizingErrorModel, BitFlipErrorModel, PhaseFlipErrorModel\n",
    "from qecsim.models.planar import PlanarCode, PlanarMWPMDecoder, PlanarMPSDecoder\n",
    "from phase_flip_ti import ti_calc_jax, ti_calc_jax_op\n",
    "\n",
    "\n",
    "# initialise models\n",
    "d = 7\n",
    "my_code = PlanarCode(d, d)\n",
    "my_error_model = PhaseFlipErrorModel()\n",
    "#my_decoder = PlanarMWPMDecoder()\n",
    "# print models\n",
    "print(my_code)\n",
    "print(my_error_model)\n",
    "#print(my_decoder)"
   ]
  },
  {
   "cell_type": "code",
   "execution_count": 2,
   "metadata": {},
   "outputs": [
    {
     "data": {
      "text/html": [
       "<div class=\"highlight\"><pre style=\"line-height:1!important; font-family: 'Courier New', monospace;\">error:\n",
       "·─┬─·─┬─·─┬─·─┬─·─┬─·─┬─·\n",
       "  ·   ·   ·   ·   <span style=\"color:blue; font-weight:bold\">Z</span>   ·  \n",
       "·─┼─·─┼─·─┼─·─┼─·─┼─·─┼─·\n",
       "  ·   ·   ·   ·   ·   ·  \n",
       "<span style=\"color:blue; font-weight:bold\">Z</span>─┼─·─┼─·─┼─·─┼─·─┼─·─┼─·\n",
       "  ·   ·   ·   ·   ·   ·  \n",
       "·─┼─·─┼─·─┼─·─┼─<span style=\"color:blue; font-weight:bold\">Z</span>─┼─·─┼─·\n",
       "  ·   ·   ·   ·   ·   ·  \n",
       "·─┼─·─┼─·─┼─·─┼─·─┼─·─┼─·\n",
       "  ·   ·   ·   <span style=\"color:blue; font-weight:bold\">Z</span>   ·   ·  \n",
       "·─┼─<span style=\"color:blue; font-weight:bold\">Z</span>─┼─<span style=\"color:blue; font-weight:bold\">Z</span>─┼─·─┼─·─┼─·─┼─·\n",
       "  ·   <span style=\"color:blue; font-weight:bold\">Z</span>   ·   ·   ·   ·  \n",
       "·─┴─·─┴─·─┴─·─┴─·─┴─·─┴─<span style=\"color:blue; font-weight:bold\">Z</span></pre></div>"
      ],
      "text/plain": [
       "<IPython.core.display.HTML object>"
      ]
     },
     "metadata": {},
     "output_type": "display_data"
    }
   ],
   "source": [
    "# set physical error probability to 10%\n",
    "error_probability = 0.1\n",
    "# seed random number generator for repeatability\n",
    "rng = np.random.default_rng(1111)\n",
    "\n",
    "# error: random error based on error probability\n",
    "error = my_error_model.generate(my_code, error_probability, rng)\n",
    "qsu.print_pauli('error:\\n{}'.format(my_code.new_pauli(error)))"
   ]
  },
  {
   "cell_type": "code",
   "execution_count": 3,
   "metadata": {},
   "outputs": [
    {
     "data": {
      "text/html": [
       "<div class=\"highlight\"><pre style=\"line-height:1!important; font-family: 'Courier New', monospace;\">syndrome:\n",
       "──┬───┬───┬───┬───<span style=\"color:red; font-weight:bold\">X</span>───┬──\n",
       "  │   │   │   │   │   │  \n",
       "──┼───┼───┼───┼───<span style=\"color:red; font-weight:bold\">X</span>───┼──\n",
       "  │   │   │   │   │   │  \n",
       "──<span style=\"color:red; font-weight:bold\">X</span>───┼───┼───┼───┼───┼──\n",
       "  │   │   │   │   │   │  \n",
       "──┼───┼───┼───<span style=\"color:red; font-weight:bold\">X</span>───<span style=\"color:red; font-weight:bold\">X</span>───┼──\n",
       "  │   │   │   │   │   │  \n",
       "──┼───┼───┼───<span style=\"color:red; font-weight:bold\">X</span>───┼───┼──\n",
       "  │   │   │   │   │   │  \n",
       "──<span style=\"color:red; font-weight:bold\">X</span>───<span style=\"color:red; font-weight:bold\">X</span>───<span style=\"color:red; font-weight:bold\">X</span>───<span style=\"color:red; font-weight:bold\">X</span>───┼───┼──\n",
       "  │   │   │   │   │   │  \n",
       "──┴───<span style=\"color:red; font-weight:bold\">X</span>───┴───┴───┴───<span style=\"color:red; font-weight:bold\">X</span>──</pre></div>"
      ],
      "text/plain": [
       "<IPython.core.display.HTML object>"
      ]
     },
     "metadata": {},
     "output_type": "display_data"
    }
   ],
   "source": [
    "# syndrome: stabilizers that do not commute with the error\n",
    "syndrome = pt.bsp(error, my_code.stabilizers.T)\n",
    "qsu.print_pauli('syndrome:\\n{}'.format(my_code.ascii_art(syndrome)))"
   ]
  },
  {
   "cell_type": "markdown",
   "metadata": {},
   "source": [
    "## 生成Recovery"
   ]
  },
  {
   "cell_type": "code",
   "execution_count": 4,
   "metadata": {},
   "outputs": [
    {
     "name": "stdout",
     "output_type": "stream",
     "text": [
      "total prob of each coset (mpf('1.5758944953105232e-11'), mpf('0.0'), mpf('0.0'), mpf('2.6072957444614728e-12'))\n",
      "Only the first and last are non-zero because only Z errors.\n",
      "The log of their ratio is: -1.7990945666238425\n"
     ]
    }
   ],
   "source": [
    "# from mps decoder\n",
    "my_mps_decoder = PlanarMPSDecoder(chi=6)\n",
    "coset_ps, recoveries = my_mps_decoder.calc_coset_probabilities(\n",
    "    my_code,\n",
    "    syndrome,\n",
    "    error_model=my_error_model,\n",
    "    error_probability=error_probability)\n",
    "\n",
    "print('total prob of each coset', coset_ps)\n",
    "print('Only the first and last are non-zero because only Z errors.')\n",
    "print('The log of their ratio is:',\n",
    "      np.log(float(coset_ps[3]) / float(coset_ps[0])))"
   ]
  },
  {
   "cell_type": "code",
   "execution_count": 5,
   "metadata": {},
   "outputs": [
    {
     "name": "stdout",
     "output_type": "stream",
     "text": [
      "[0 0 0 0 0 0 0 0 0 0 0 0 0 0 0 0 0 0 0 0 0 0 0 0 0 0 0 0 0 0 0 0 0 0 0 0 0\n",
      " 0 0 0 0 0 0 0 0 0 0 0 0 0 0 0 0 0 0 0 0 0 0 0 0 0 0 0 0 0 0 0 0 0 0 0 0 0\n",
      " 0 0 0 0 0 0 0 0 0 0 0 0 0 0 0 0 1 1 0 0 0 0 0 1 1 1 0 0 0 0 0 0 0 0 0 0 1\n",
      " 0 0 0 0 0 0 1 1 1 1 0 1 0 1 1 1 1 1 0 0 0 0 1 0 0 0 0 0 0 0 0 0 0 0 0 0 0\n",
      " 0 0 0 0 0 0 0 0 0 0 0 0 0 0 0 0 0 0 0 0 0 0]\n"
     ]
    },
    {
     "data": {
      "text/html": [
       "<div class=\"highlight\"><pre style=\"line-height:1!important; font-family: 'Courier New', monospace;\">recovery:\n",
       "·─┬─·─┬─·─┬─·─┬─·─┬─<span style=\"color:blue; font-weight:bold\">Z</span>─┬─<span style=\"color:blue; font-weight:bold\">Z</span>\n",
       "  ·   ·   ·   ·   ·   ·  \n",
       "·─┼─·─┼─·─┼─·─┼─·─┼─<span style=\"color:blue; font-weight:bold\">Z</span>─┼─<span style=\"color:blue; font-weight:bold\">Z</span>\n",
       "  ·   ·   ·   ·   ·   ·  \n",
       "<span style=\"color:blue; font-weight:bold\">Z</span>─┼─·─┼─·─┼─·─┼─·─┼─·─┼─·\n",
       "  ·   ·   ·   ·   ·   ·  \n",
       "·─┼─·─┼─·─┼─·─┼─<span style=\"color:blue; font-weight:bold\">Z</span>─┼─·─┼─·\n",
       "  ·   ·   ·   ·   ·   ·  \n",
       "·─┼─·─┼─·─┼─·─┼─<span style=\"color:blue; font-weight:bold\">Z</span>─┼─<span style=\"color:blue; font-weight:bold\">Z</span>─┼─<span style=\"color:blue; font-weight:bold\">Z</span>\n",
       "  ·   ·   ·   ·   ·   ·  \n",
       "<span style=\"color:blue; font-weight:bold\">Z</span>─┼─·─┼─<span style=\"color:blue; font-weight:bold\">Z</span>─┼─·─┼─<span style=\"color:blue; font-weight:bold\">Z</span>─┼─<span style=\"color:blue; font-weight:bold\">Z</span>─┼─<span style=\"color:blue; font-weight:bold\">Z</span>\n",
       "  ·   ·   ·   ·   ·   ·  \n",
       "<span style=\"color:blue; font-weight:bold\">Z</span>─┴─<span style=\"color:blue; font-weight:bold\">Z</span>─┴─·─┴─·─┴─·─┴─·─┴─<span style=\"color:blue; font-weight:bold\">Z</span></pre></div>"
      ],
      "text/plain": [
       "<IPython.core.display.HTML object>"
      ]
     },
     "metadata": {},
     "output_type": "display_data"
    }
   ],
   "source": [
    "recovery = recoveries[0].to_bsf()\n",
    "print(recovery)\n",
    "qsu.print_pauli('recovery:\\n{}'.format(my_code.new_pauli(recovery)))"
   ]
  },
  {
   "cell_type": "code",
   "execution_count": 6,
   "metadata": {},
   "outputs": [
    {
     "name": "stdout",
     "output_type": "stream",
     "text": [
      "[0 0]\n"
     ]
    }
   ],
   "source": [
    "# success iff recovery ^ error commutes with logicals\n",
    "print(pt.bsp(recovery ^ error, my_code.logicals.T))"
   ]
  },
  {
   "cell_type": "code",
   "execution_count": 7,
   "metadata": {},
   "outputs": [
    {
     "data": {
      "text/html": [
       "<div class=\"highlight\"><pre style=\"line-height:1!important; font-family: 'Courier New', monospace;\">recovery ^ error:\n",
       "·─┬─·─┬─·─┬─·─┬─·─┬─<span style=\"color:blue; font-weight:bold\">Z</span>─┬─<span style=\"color:blue; font-weight:bold\">Z</span>\n",
       "  ·   ·   ·   ·   <span style=\"color:blue; font-weight:bold\">Z</span>   ·  \n",
       "·─┼─·─┼─·─┼─·─┼─·─┼─<span style=\"color:blue; font-weight:bold\">Z</span>─┼─<span style=\"color:blue; font-weight:bold\">Z</span>\n",
       "  ·   ·   ·   ·   ·   ·  \n",
       "·─┼─·─┼─·─┼─·─┼─·─┼─·─┼─·\n",
       "  ·   ·   ·   ·   ·   ·  \n",
       "·─┼─·─┼─·─┼─·─┼─·─┼─·─┼─·\n",
       "  ·   ·   ·   ·   ·   ·  \n",
       "·─┼─·─┼─·─┼─·─┼─<span style=\"color:blue; font-weight:bold\">Z</span>─┼─<span style=\"color:blue; font-weight:bold\">Z</span>─┼─<span style=\"color:blue; font-weight:bold\">Z</span>\n",
       "  ·   ·   ·   <span style=\"color:blue; font-weight:bold\">Z</span>   ·   ·  \n",
       "<span style=\"color:blue; font-weight:bold\">Z</span>─┼─<span style=\"color:blue; font-weight:bold\">Z</span>─┼─·─┼─·─┼─<span style=\"color:blue; font-weight:bold\">Z</span>─┼─<span style=\"color:blue; font-weight:bold\">Z</span>─┼─<span style=\"color:blue; font-weight:bold\">Z</span>\n",
       "  ·   <span style=\"color:blue; font-weight:bold\">Z</span>   ·   ·   ·   ·  \n",
       "<span style=\"color:blue; font-weight:bold\">Z</span>─┴─<span style=\"color:blue; font-weight:bold\">Z</span>─┴─·─┴─·─┴─·─┴─·─┴─·</pre></div>"
      ],
      "text/plain": [
       "<IPython.core.display.HTML object>"
      ]
     },
     "metadata": {},
     "output_type": "display_data"
    }
   ],
   "source": [
    "# couriosity:recovery ^ error\n",
    "qsu.print_pauli('recovery ^ error:\\n{}'.format(my_code.new_pauli(recovery ^ error)))"
   ]
  },
  {
   "cell_type": "code",
   "execution_count": 8,
   "metadata": {},
   "outputs": [
    {
     "data": {
      "text/plain": [
       "(Array(-1.8002079, dtype=float32), Array(0.01726119, dtype=float32))"
      ]
     },
     "execution_count": 8,
     "metadata": {},
     "output_type": "execute_result"
    }
   ],
   "source": [
    "ti_calc_jax_op(recovery, \n",
    "                error_probability=error_probability, \n",
    "                d=d, \n",
    "                num_int_steps=101,\n",
    "                mcmove_steps_init=500000, \n",
    "                mcmove_steps_for_derivative=1000,\n",
    "                num_samples=1000)"
   ]
  },
  {
   "cell_type": "markdown",
   "metadata": {},
   "source": [
    "## TI_JAX测试"
   ]
  },
  {
   "cell_type": "code",
   "execution_count": 10,
   "metadata": {},
   "outputs": [
    {
     "name": "stdout",
     "output_type": "stream",
     "text": [
      "[CpuDevice(id=0)]\n"
     ]
    }
   ],
   "source": [
    "import jax\n",
    "print(jax.devices())"
   ]
  },
  {
   "cell_type": "code",
   "execution_count": 11,
   "metadata": {},
   "outputs": [
    {
     "name": "stdout",
     "output_type": "stream",
     "text": [
      "l = 0.000, energy derivative = -13.4920, spin flip ratio = 0.058\n",
      "l = 0.010, energy derivative = -13.3520, spin flip ratio = 0.057\n",
      "l = 0.020, energy derivative = -13.2800, spin flip ratio = 0.058\n",
      "l = 0.030, energy derivative = -13.2320, spin flip ratio = 0.058\n",
      "l = 0.040, energy derivative = -13.2960, spin flip ratio = 0.057\n",
      "l = 0.050, energy derivative = -13.2080, spin flip ratio = 0.059\n",
      "l = 0.060, energy derivative = -13.2560, spin flip ratio = 0.059\n",
      "l = 0.070, energy derivative = -13.0520, spin flip ratio = 0.059\n",
      "l = 0.080, energy derivative = -12.9880, spin flip ratio = 0.060\n",
      "l = 0.090, energy derivative = -13.0400, spin flip ratio = 0.060\n",
      "l = 0.100, energy derivative = -12.8680, spin flip ratio = 0.060\n",
      "l = 0.110, energy derivative = -12.8200, spin flip ratio = 0.061\n",
      "l = 0.120, energy derivative = -12.6760, spin flip ratio = 0.061\n",
      "l = 0.130, energy derivative = -12.5800, spin flip ratio = 0.061\n",
      "l = 0.140, energy derivative = -12.4760, spin flip ratio = 0.061\n",
      "l = 0.150, energy derivative = -12.5760, spin flip ratio = 0.062\n",
      "l = 0.160, energy derivative = -12.4040, spin flip ratio = 0.062\n",
      "l = 0.170, energy derivative = -12.1360, spin flip ratio = 0.063\n",
      "l = 0.180, energy derivative = -11.8960, spin flip ratio = 0.063\n",
      "l = 0.190, energy derivative = -11.8440, spin flip ratio = 0.064\n",
      "l = 0.200, energy derivative = -11.7680, spin flip ratio = 0.064\n",
      "l = 0.210, energy derivative = -11.4760, spin flip ratio = 0.064\n",
      "l = 0.220, energy derivative = -11.0640, spin flip ratio = 0.065\n",
      "l = 0.230, energy derivative = -11.2120, spin flip ratio = 0.066\n",
      "l = 0.240, energy derivative = -10.7880, spin flip ratio = 0.066\n",
      "l = 0.250, energy derivative = -10.7800, spin flip ratio = 0.067\n",
      "l = 0.260, energy derivative = -10.1280, spin flip ratio = 0.066\n",
      "l = 0.270, energy derivative = -10.0320, spin flip ratio = 0.067\n",
      "l = 0.280, energy derivative = -9.8080, spin flip ratio = 0.068\n",
      "l = 0.290, energy derivative = -9.3480, spin flip ratio = 0.068\n",
      "l = 0.300, energy derivative = -9.1360, spin flip ratio = 0.068\n",
      "l = 0.310, energy derivative = -8.7400, spin flip ratio = 0.069\n",
      "l = 0.320, energy derivative = -8.1920, spin flip ratio = 0.070\n",
      "l = 0.330, energy derivative = -8.1240, spin flip ratio = 0.070\n",
      "l = 0.340, energy derivative = -7.3680, spin flip ratio = 0.071\n",
      "l = 0.350, energy derivative = -7.0280, spin flip ratio = 0.070\n",
      "l = 0.360, energy derivative = -6.4480, spin flip ratio = 0.071\n",
      "l = 0.370, energy derivative = -6.1440, spin flip ratio = 0.072\n",
      "l = 0.380, energy derivative = -6.0560, spin flip ratio = 0.072\n",
      "l = 0.390, energy derivative = -5.5320, spin flip ratio = 0.073\n",
      "l = 0.400, energy derivative = -5.0680, spin flip ratio = 0.073\n",
      "l = 0.410, energy derivative = -4.5600, spin flip ratio = 0.074\n",
      "l = 0.420, energy derivative = -3.9240, spin flip ratio = 0.074\n",
      "l = 0.430, energy derivative = -3.5400, spin flip ratio = 0.074\n",
      "l = 0.440, energy derivative = -3.3520, spin flip ratio = 0.074\n",
      "l = 0.450, energy derivative = -3.0000, spin flip ratio = 0.075\n",
      "l = 0.460, energy derivative = -2.5040, spin flip ratio = 0.076\n",
      "l = 0.470, energy derivative = -2.2520, spin flip ratio = 0.076\n",
      "l = 0.480, energy derivative = -1.4080, spin flip ratio = 0.077\n",
      "l = 0.490, energy derivative = -1.2320, spin flip ratio = 0.077\n",
      "l = 0.500, energy derivative = -1.1120, spin flip ratio = 0.077\n",
      "l = 0.510, energy derivative = -0.5800, spin flip ratio = 0.077\n",
      "l = 0.520, energy derivative = -0.5600, spin flip ratio = 0.077\n",
      "l = 0.530, energy derivative = 0.0480, spin flip ratio = 0.076\n",
      "l = 0.540, energy derivative = 0.3440, spin flip ratio = 0.076\n",
      "l = 0.550, energy derivative = 0.3080, spin flip ratio = 0.076\n",
      "l = 0.560, energy derivative = 0.8520, spin flip ratio = 0.076\n",
      "l = 0.570, energy derivative = 1.1720, spin flip ratio = 0.075\n",
      "l = 0.580, energy derivative = 1.6040, spin flip ratio = 0.075\n",
      "l = 0.590, energy derivative = 1.6000, spin flip ratio = 0.074\n",
      "l = 0.600, energy derivative = 1.8120, spin flip ratio = 0.074\n",
      "l = 0.610, energy derivative = 2.1400, spin flip ratio = 0.074\n",
      "l = 0.620, energy derivative = 2.5840, spin flip ratio = 0.074\n",
      "l = 0.630, energy derivative = 2.8000, spin flip ratio = 0.074\n",
      "l = 0.640, energy derivative = 3.0280, spin flip ratio = 0.074\n",
      "l = 0.650, energy derivative = 3.2200, spin flip ratio = 0.073\n",
      "l = 0.660, energy derivative = 3.6920, spin flip ratio = 0.075\n",
      "l = 0.670, energy derivative = 3.9120, spin flip ratio = 0.074\n",
      "l = 0.680, energy derivative = 4.0200, spin flip ratio = 0.073\n",
      "l = 0.690, energy derivative = 4.2720, spin flip ratio = 0.074\n",
      "l = 0.700, energy derivative = 4.8640, spin flip ratio = 0.073\n",
      "l = 0.710, energy derivative = 5.3200, spin flip ratio = 0.073\n",
      "l = 0.720, energy derivative = 5.2360, spin flip ratio = 0.074\n",
      "l = 0.730, energy derivative = 5.4040, spin flip ratio = 0.074\n",
      "l = 0.740, energy derivative = 5.9440, spin flip ratio = 0.074\n",
      "l = 0.750, energy derivative = 6.2600, spin flip ratio = 0.075\n",
      "l = 0.760, energy derivative = 6.7240, spin flip ratio = 0.074\n",
      "l = 0.770, energy derivative = 6.6400, spin flip ratio = 0.075\n",
      "l = 0.780, energy derivative = 6.7680, spin flip ratio = 0.074\n",
      "l = 0.790, energy derivative = 7.2520, spin flip ratio = 0.076\n",
      "l = 0.800, energy derivative = 7.5640, spin flip ratio = 0.076\n",
      "l = 0.810, energy derivative = 7.5360, spin flip ratio = 0.075\n",
      "l = 0.820, energy derivative = 8.0040, spin flip ratio = 0.076\n",
      "l = 0.830, energy derivative = 8.5200, spin flip ratio = 0.076\n",
      "l = 0.840, energy derivative = 8.8760, spin flip ratio = 0.076\n",
      "l = 0.850, energy derivative = 9.0640, spin flip ratio = 0.076\n",
      "l = 0.860, energy derivative = 9.0040, spin flip ratio = 0.076\n",
      "l = 0.870, energy derivative = 9.1480, spin flip ratio = 0.076\n",
      "l = 0.880, energy derivative = 9.6240, spin flip ratio = 0.075\n",
      "l = 0.890, energy derivative = 9.7240, spin flip ratio = 0.076\n",
      "l = 0.900, energy derivative = 9.9480, spin flip ratio = 0.075\n",
      "l = 0.910, energy derivative = 10.1280, spin flip ratio = 0.075\n",
      "l = 0.920, energy derivative = 10.1440, spin flip ratio = 0.076\n",
      "l = 0.930, energy derivative = 10.7080, spin flip ratio = 0.077\n",
      "l = 0.940, energy derivative = 10.5920, spin flip ratio = 0.076\n",
      "l = 0.950, energy derivative = 10.9480, spin flip ratio = 0.075\n",
      "l = 0.960, energy derivative = 11.0680, spin flip ratio = 0.075\n",
      "l = 0.970, energy derivative = 11.0520, spin flip ratio = 0.076\n",
      "l = 0.980, energy derivative = 11.2520, spin flip ratio = 0.075\n",
      "l = 0.990, energy derivative = 11.5160, spin flip ratio = 0.074\n",
      "l = 1.000, energy derivative = 11.7760, spin flip ratio = 0.075\n",
      "-1.8002079 0.017261187\n"
     ]
    }
   ],
   "source": [
    "mean_integral, error_bar, states_record, h_borders, v_borders=ti_calc_jax(recovery,\n",
    "                     error_probability=error_probability,\n",
    "                     d=d,\n",
    "                     num_int_steps=101,\n",
    "                     mcmove_steps_init = 500000, \n",
    "                     mcmove_steps_for_derivative=1000, \n",
    "                     num_samples=1000,  \n",
    "                     animation_step=0)\n",
    "print(mean_integral, error_bar)"
   ]
  },
  {
   "cell_type": "code",
   "execution_count": 12,
   "metadata": {},
   "outputs": [
    {
     "data": {
      "text/plain": [
       "500000"
      ]
     },
     "execution_count": 12,
     "metadata": {},
     "output_type": "execute_result"
    }
   ],
   "source": [
    "len(states_record)"
   ]
  },
  {
   "cell_type": "code",
   "execution_count": 13,
   "metadata": {},
   "outputs": [
    {
     "name": "stdout",
     "output_type": "stream",
     "text": [
      "[[ 1.  1.  1.  1.  1. -1. -1.]\n",
      " [ 1.  1.  1.  1.  1. -1. -1.]\n",
      " [-1.  1.  1.  1.  1.  1.  1.]\n",
      " [ 1.  1.  1.  1. -1.  1.  1.]\n",
      " [ 1.  1.  1.  1. -1. -1. -1.]\n",
      " [-1.  1. -1.  1. -1. -1. -1.]\n",
      " [-1. -1.  1.  1.  1.  1. -1.]]\n",
      "[[1 1 1 1 1 1]\n",
      " [1 1 1 1 1 1]\n",
      " [1 1 1 1 1 1]\n",
      " [1 1 1 1 1 1]\n",
      " [1 1 1 1 1 1]\n",
      " [1 1 1 1 1 1]]\n"
     ]
    }
   ],
   "source": [
    "print(h_borders)\n",
    "print(v_borders)"
   ]
  },
  {
   "cell_type": "code",
   "execution_count": 14,
   "metadata": {},
   "outputs": [
    {
     "data": {
      "image/png": "[encoded data removed]",
      "text/plain": [
       "<Figure size 640x480 with 1 Axes>"
      ]
     },
     "metadata": {},
     "output_type": "display_data"
    }
   ],
   "source": [
    "from animation import create_grid_with_colored_borders_alone\n",
    "create_grid_with_colored_borders_alone(d, h_borders, v_borders)"
   ]
  },
  {
   "cell_type": "code",
   "execution_count": 19,
   "metadata": {},
   "outputs": [],
   "source": [
    "states_vedio= states_record[-1000:]"
   ]
  },
  {
   "cell_type": "code",
   "execution_count": 20,
   "metadata": {},
   "outputs": [],
   "source": [
    "from animation import create_spin_animation\n",
    "create_spin_animation(d, h_borders, v_borders, states_vedio, 'spin_animation_7_l_0.mp4')"
   ]
  },
  {
   "cell_type": "code",
   "execution_count": 58,
   "metadata": {},
   "outputs": [
    {
     "name": "stdout",
     "output_type": "stream",
     "text": [
      "[[ 1  1  1  1  1  1  1  1]\n",
      " [ 1  1  1  1  1  1  1 -1]\n",
      " [-1 -1 -1  1  1  1  1  1]\n",
      " [ 1 -1 -1 -1  1  1  1  1]\n",
      " [ 1 -1 -1  1  1  1  1  1]\n",
      " [ 1  1  1  1  1  1  1  1]\n",
      " [-1 -1 -1  1  1  1  1  1]]\n"
     ]
    }
   ],
   "source": [
    "print(states_vedio[-1])"
   ]
  }
 ],
 "metadata": {
  "kernelspec": {
   "display_name": "ti_qec",
   "language": "python",
   "name": "python3"
  },
  "language_info": {
   "codemirror_mode": {
    "name": "ipython",
    "version": 3
   },
   "file_extension": ".py",
   "mimetype": "text/x-python",
   "name": "python",
   "nbconvert_exporter": "python",
   "pygments_lexer": "ipython3",
   "version": "3.11.5"
  }
 },
 "nbformat": 4,
 "nbformat_minor": 2
}
