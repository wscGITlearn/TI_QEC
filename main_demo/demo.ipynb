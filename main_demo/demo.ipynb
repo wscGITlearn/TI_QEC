{
 "cells": [
  {
   "cell_type": "markdown",
   "metadata": {},
   "source": [
    "## 初始demo\n"
   ]
  },
  {
   "cell_type": "markdown",
   "metadata": {},
   "source": [
    "### cpu并行设置"
   ]
  },
  {
   "cell_type": "code",
   "execution_count": null,
   "metadata": {},
   "outputs": [],
   "source": [
    "! ipcluster start -n 24"
   ]
  },
  {
   "cell_type": "code",
   "execution_count": null,
   "metadata": {},
   "outputs": [],
   "source": [
    "! ipcluster stop"
   ]
  },
  {
   "cell_type": "code",
   "execution_count": null,
   "metadata": {},
   "outputs": [],
   "source": [
    "import ipyparallel as ipp\n",
    "\n",
    "# 首先，您需要启动一个集群（在笔记本的“Clusters”选项卡中）或使用命令行（通过 'ipcluster start -n 4'，4 是您想要的核心数）\n",
    "\n",
    "# 创建一个客户端实例\n",
    "client = ipp.Client()\n",
    "\n",
    "# 每个“引擎”都是一个单独的Python实例\n",
    "dview = client[:]\n",
    "\n",
    "# 定义我们想要并行运行的函数\n",
    "def my_function(x):\n",
    "    return x * x\n",
    "\n",
    "# 用'map'方法并行运行函数\n",
    "result = dview.map_sync(my_function, range(8))\n",
    "\n",
    "print(result)\n",
    "\n",
    "client.close()"
   ]
  },
  {
   "cell_type": "markdown",
   "metadata": {},
   "source": [
    "### QEC 测试"
   ]
  },
  {
   "cell_type": "code",
   "execution_count": 1,
   "metadata": {},
   "outputs": [
    {
     "name": "stdout",
     "output_type": "stream",
     "text": [
      "PlanarCode(7, 7)\n",
      "PhaseFlipErrorModel()\n"
     ]
    }
   ],
   "source": [
    "%run qsu.ipynb  # color-printing functions\n",
    "import numpy as np\n",
    "from qecsim import paulitools as pt\n",
    "from qecsim.models.generic import DepolarizingErrorModel, BitFlipErrorModel, PhaseFlipErrorModel\n",
    "from qecsim.models.planar import PlanarCode, PlanarMWPMDecoder, PlanarMPSDecoder\n",
    "from ti_decoder import ti_calc_serial, ti_calc_Parallel, ti_calc_serial_spin_encoded\n",
    "\n",
    "# initialise models\n",
    "d = 7\n",
    "my_code = PlanarCode(d, d)\n",
    "my_error_model = PhaseFlipErrorModel()\n",
    "#my_decoder = PlanarMWPMDecoder()\n",
    "# print models\n",
    "print(my_code)\n",
    "print(my_error_model)\n",
    "#print(my_decoder)"
   ]
  },
  {
   "cell_type": "code",
   "execution_count": 2,
   "metadata": {},
   "outputs": [
    {
     "data": {
      "text/html": [
       "<div class=\"highlight\"><pre style=\"line-height:1!important; font-family: 'Courier New', monospace;\">error:\n",
       "·─┬─·─┬─·─┬─·─┬─·─┬─·─┬─·\n",
       "  ·   ·   ·   ·   <span style=\"color:blue; font-weight:bold\">Z</span>   ·  \n",
       "·─┼─·─┼─·─┼─·─┼─·─┼─·─┼─·\n",
       "  ·   ·   ·   ·   ·   ·  \n",
       "<span style=\"color:blue; font-weight:bold\">Z</span>─┼─·─┼─·─┼─·─┼─·─┼─·─┼─·\n",
       "  ·   ·   ·   ·   ·   ·  \n",
       "·─┼─·─┼─·─┼─·─┼─<span style=\"color:blue; font-weight:bold\">Z</span>─┼─·─┼─·\n",
       "  ·   ·   ·   ·   ·   ·  \n",
       "·─┼─·─┼─·─┼─·─┼─·─┼─·─┼─·\n",
       "  ·   ·   ·   <span style=\"color:blue; font-weight:bold\">Z</span>   ·   ·  \n",
       "·─┼─<span style=\"color:blue; font-weight:bold\">Z</span>─┼─<span style=\"color:blue; font-weight:bold\">Z</span>─┼─·─┼─·─┼─·─┼─·\n",
       "  ·   <span style=\"color:blue; font-weight:bold\">Z</span>   ·   ·   ·   ·  \n",
       "·─┴─·─┴─·─┴─·─┴─·─┴─·─┴─<span style=\"color:blue; font-weight:bold\">Z</span></pre></div>"
      ],
      "text/plain": [
       "<IPython.core.display.HTML object>"
      ]
     },
     "metadata": {},
     "output_type": "display_data"
    }
   ],
   "source": [
    "# set physical error probability to 10%\n",
    "error_probability = 0.1\n",
    "# seed random number generator for repeatability\n",
    "rng = np.random.default_rng(1111)\n",
    "\n",
    "# error: random error based on error probability\n",
    "error = my_error_model.generate(my_code, error_probability, rng)\n",
    "qsu.print_pauli('error:\\n{}'.format(my_code.new_pauli(error)))"
   ]
  },
  {
   "cell_type": "code",
   "execution_count": 4,
   "metadata": {},
   "outputs": [
    {
     "data": {
      "text/html": [
       "<div class=\"highlight\"><pre style=\"line-height:1!important; font-family: 'Courier New', monospace;\">syndrome:\n",
       "──┬───┬───┬───┬───<span style=\"color:red; font-weight:bold\">X</span>───┬──\n",
       "  │   │   │   │   │   │  \n",
       "──┼───┼───┼───┼───<span style=\"color:red; font-weight:bold\">X</span>───┼──\n",
       "  │   │   │   │   │   │  \n",
       "──<span style=\"color:red; font-weight:bold\">X</span>───┼───┼───┼───┼───┼──\n",
       "  │   │   │   │   │   │  \n",
       "──┼───┼───┼───<span style=\"color:red; font-weight:bold\">X</span>───<span style=\"color:red; font-weight:bold\">X</span>───┼──\n",
       "  │   │   │   │   │   │  \n",
       "──┼───┼───┼───<span style=\"color:red; font-weight:bold\">X</span>───┼───┼──\n",
       "  │   │   │   │   │   │  \n",
       "──<span style=\"color:red; font-weight:bold\">X</span>───<span style=\"color:red; font-weight:bold\">X</span>───<span style=\"color:red; font-weight:bold\">X</span>───<span style=\"color:red; font-weight:bold\">X</span>───┼───┼──\n",
       "  │   │   │   │   │   │  \n",
       "──┴───<span style=\"color:red; font-weight:bold\">X</span>───┴───┴───┴───<span style=\"color:red; font-weight:bold\">X</span>──</pre></div>"
      ],
      "text/plain": [
       "<IPython.core.display.HTML object>"
      ]
     },
     "metadata": {},
     "output_type": "display_data"
    }
   ],
   "source": [
    "# syndrome: stabilizers that do not commute with the error\n",
    "syndrome = pt.bsp(error, my_code.stabilizers.T)\n",
    "qsu.print_pauli('syndrome:\\n{}'.format(my_code.ascii_art(syndrome)))"
   ]
  },
  {
   "cell_type": "markdown",
   "metadata": {},
   "source": [
    "### 自定义MPS Decoder计算coset概率"
   ]
  },
  {
   "cell_type": "markdown",
   "metadata": {},
   "source": [
    "Please add the following code to PlanarMPSDecoder class\n",
    "```python\n",
    "def calc_coset_probabilities(self, code, syndrome,\n",
    "            error_model=DepolarizingErrorModel(),  # noqa: B008\n",
    "            error_probability=0.1, **kwargs):\n",
    "    \"\"\"\n",
    "    See :meth:`qecsim.model.Decoder.decode`\n",
    "\n",
    "    Note: The optional keyword parameters ``error_model`` and ``error_probability`` are used to determine the prior\n",
    "    probability distribution for use in the decoding algorithm. Any provided error model must implement\n",
    "    :meth:`~qecsim.model.ErrorModel.probability_distribution`.\n",
    "\n",
    "    :param code: Planar code.\n",
    "    :type code: PlanarCode\n",
    "    :param syndrome: Syndrome as binary vector.\n",
    "    :type syndrome: numpy.array (1d)\n",
    "    :param error_model: Error model. (default=DepolarizingErrorModel())\n",
    "    :type error_model: ErrorModel\n",
    "    :param error_probability: Overall probability of an error on a single qubit. (default=0.1)\n",
    "    :type error_probability: float\n",
    "    :return: Recovery operation as binary symplectic vector.\n",
    "    :rtype: numpy.array (1d)\n",
    "    \"\"\"\n",
    "    # any recovery\n",
    "    any_recovery = self.sample_recovery(code, syndrome)\n",
    "    # probability distribution\n",
    "    prob_dist = error_model.probability_distribution(error_probability)\n",
    "    # coset probabilities, recovery operations\n",
    "    coset_ps, recoveries = self._coset_probabilities(prob_dist, any_recovery)\n",
    "\n",
    "    return coset_ps, recoveries\n",
    "```\n"
   ]
  },
  {
   "cell_type": "markdown",
   "metadata": {},
   "source": [
    "### 生成Recovery"
   ]
  },
  {
   "cell_type": "code",
   "execution_count": 5,
   "metadata": {},
   "outputs": [
    {
     "name": "stdout",
     "output_type": "stream",
     "text": [
      "total prob of each coset (mpf('1.5758944953105232e-11'), mpf('0.0'), mpf('0.0'), mpf('2.6072957444614728e-12'))\n",
      "Only the first and last are non-zero because only Z errors.\n",
      "The log of their ratio is: -1.7990945666238425\n"
     ]
    }
   ],
   "source": [
    "# from mps decoder\n",
    "my_mps_decoder = PlanarMPSDecoder(chi=6)\n",
    "coset_ps, recoveries = my_mps_decoder.calc_coset_probabilities(\n",
    "    my_code,\n",
    "    syndrome,\n",
    "    error_model=my_error_model,\n",
    "    error_probability=error_probability)\n",
    "\n",
    "print('total prob of each coset', coset_ps)\n",
    "print('Only the first and last are non-zero because only Z errors.')\n",
    "print('The log of their ratio is:',\n",
    "      np.log(float(coset_ps[3]) / float(coset_ps[0])))\n"
   ]
  },
  {
   "cell_type": "code",
   "execution_count": 6,
   "metadata": {},
   "outputs": [
    {
     "name": "stdout",
     "output_type": "stream",
     "text": [
      "[0 0 0 0 0 0 0 0 0 0 0 0 0 0 0 0 0 0 0 0 0 0 0 0 0 0 0 0 0 0 0 0 0 0 0 0 0\n",
      " 0 0 0 0 0 0 0 0 0 0 0 0 0 0 0 0 0 0 0 0 0 0 0 0 0 0 0 0 0 0 0 0 0 0 0 0 0\n",
      " 0 0 0 0 0 0 0 0 0 0 0 0 0 0 0 0 1 1 0 0 0 0 0 1 1 1 0 0 0 0 0 0 0 0 0 0 1\n",
      " 0 0 0 0 0 0 1 1 1 1 0 1 0 1 1 1 1 1 0 0 0 0 1 0 0 0 0 0 0 0 0 0 0 0 0 0 0\n",
      " 0 0 0 0 0 0 0 0 0 0 0 0 0 0 0 0 0 0 0 0 0 0]\n"
     ]
    },
    {
     "data": {
      "text/html": [
       "<div class=\"highlight\"><pre style=\"line-height:1!important; font-family: 'Courier New', monospace;\">recovery:\n",
       "·─┬─·─┬─·─┬─·─┬─·─┬─<span style=\"color:blue; font-weight:bold\">Z</span>─┬─<span style=\"color:blue; font-weight:bold\">Z</span>\n",
       "  ·   ·   ·   ·   ·   ·  \n",
       "·─┼─·─┼─·─┼─·─┼─·─┼─<span style=\"color:blue; font-weight:bold\">Z</span>─┼─<span style=\"color:blue; font-weight:bold\">Z</span>\n",
       "  ·   ·   ·   ·   ·   ·  \n",
       "<span style=\"color:blue; font-weight:bold\">Z</span>─┼─·─┼─·─┼─·─┼─·─┼─·─┼─·\n",
       "  ·   ·   ·   ·   ·   ·  \n",
       "·─┼─·─┼─·─┼─·─┼─<span style=\"color:blue; font-weight:bold\">Z</span>─┼─·─┼─·\n",
       "  ·   ·   ·   ·   ·   ·  \n",
       "·─┼─·─┼─·─┼─·─┼─<span style=\"color:blue; font-weight:bold\">Z</span>─┼─<span style=\"color:blue; font-weight:bold\">Z</span>─┼─<span style=\"color:blue; font-weight:bold\">Z</span>\n",
       "  ·   ·   ·   ·   ·   ·  \n",
       "<span style=\"color:blue; font-weight:bold\">Z</span>─┼─·─┼─<span style=\"color:blue; font-weight:bold\">Z</span>─┼─·─┼─<span style=\"color:blue; font-weight:bold\">Z</span>─┼─<span style=\"color:blue; font-weight:bold\">Z</span>─┼─<span style=\"color:blue; font-weight:bold\">Z</span>\n",
       "  ·   ·   ·   ·   ·   ·  \n",
       "<span style=\"color:blue; font-weight:bold\">Z</span>─┴─<span style=\"color:blue; font-weight:bold\">Z</span>─┴─·─┴─·─┴─·─┴─·─┴─<span style=\"color:blue; font-weight:bold\">Z</span></pre></div>"
      ],
      "text/plain": [
       "<IPython.core.display.HTML object>"
      ]
     },
     "metadata": {},
     "output_type": "display_data"
    }
   ],
   "source": [
    "recovery = recoveries[0].to_bsf()\n",
    "print(recovery)\n",
    "qsu.print_pauli('recovery:\\n{}'.format(my_code.new_pauli(recovery)))"
   ]
  },
  {
   "cell_type": "code",
   "execution_count": 7,
   "metadata": {},
   "outputs": [
    {
     "name": "stdout",
     "output_type": "stream",
     "text": [
      "[0 0 0 0 0 0 0 0 0 0 0 0 0 0 0 0 0 0 0 0 0 0 0 0 0 0 0 0 0 0 0 0 0 0 0 0 0\n",
      " 0 0 0 0 0 0 0 0 0 0 0 0 0 0 0 0 0 0 0 0 0 0 0 0 0 0 0 0 0 0 0 0 0 0 0 0 0\n",
      " 0 0 0 0 0 0 0 0 0 0]\n"
     ]
    }
   ],
   "source": [
    "# check recovery ^ error commutes with stabilizers (by construction)\n",
    "print(pt.bsp(recovery ^ error, my_code.stabilizers.T))"
   ]
  },
  {
   "cell_type": "code",
   "execution_count": 8,
   "metadata": {},
   "outputs": [
    {
     "name": "stdout",
     "output_type": "stream",
     "text": [
      "[0 0]\n"
     ]
    }
   ],
   "source": [
    "# success iff recovery ^ error commutes with logicals\n",
    "print(pt.bsp(recovery ^ error, my_code.logicals.T))"
   ]
  },
  {
   "cell_type": "code",
   "execution_count": 9,
   "metadata": {},
   "outputs": [
    {
     "data": {
      "text/html": [
       "<div class=\"highlight\"><pre style=\"line-height:1!important; font-family: 'Courier New', monospace;\">recovery ^ error:\n",
       "·─┬─·─┬─·─┬─·─┬─·─┬─<span style=\"color:blue; font-weight:bold\">Z</span>─┬─<span style=\"color:blue; font-weight:bold\">Z</span>\n",
       "  ·   ·   ·   ·   <span style=\"color:blue; font-weight:bold\">Z</span>   ·  \n",
       "·─┼─·─┼─·─┼─·─┼─·─┼─<span style=\"color:blue; font-weight:bold\">Z</span>─┼─<span style=\"color:blue; font-weight:bold\">Z</span>\n",
       "  ·   ·   ·   ·   ·   ·  \n",
       "·─┼─·─┼─·─┼─·─┼─·─┼─·─┼─·\n",
       "  ·   ·   ·   ·   ·   ·  \n",
       "·─┼─·─┼─·─┼─·─┼─·─┼─·─┼─·\n",
       "  ·   ·   ·   ·   ·   ·  \n",
       "·─┼─·─┼─·─┼─·─┼─<span style=\"color:blue; font-weight:bold\">Z</span>─┼─<span style=\"color:blue; font-weight:bold\">Z</span>─┼─<span style=\"color:blue; font-weight:bold\">Z</span>\n",
       "  ·   ·   ·   <span style=\"color:blue; font-weight:bold\">Z</span>   ·   ·  \n",
       "<span style=\"color:blue; font-weight:bold\">Z</span>─┼─<span style=\"color:blue; font-weight:bold\">Z</span>─┼─·─┼─·─┼─<span style=\"color:blue; font-weight:bold\">Z</span>─┼─<span style=\"color:blue; font-weight:bold\">Z</span>─┼─<span style=\"color:blue; font-weight:bold\">Z</span>\n",
       "  ·   <span style=\"color:blue; font-weight:bold\">Z</span>   ·   ·   ·   ·  \n",
       "<span style=\"color:blue; font-weight:bold\">Z</span>─┴─<span style=\"color:blue; font-weight:bold\">Z</span>─┴─·─┴─·─┴─·─┴─·─┴─·</pre></div>"
      ],
      "text/plain": [
       "<IPython.core.display.HTML object>"
      ]
     },
     "metadata": {},
     "output_type": "display_data"
    }
   ],
   "source": [
    "# couriosity:recovery ^ error\n",
    "qsu.print_pauli('recovery ^ error:\\n{}'.format(my_code.new_pauli(recovery ^ error)))"
   ]
  },
  {
   "cell_type": "markdown",
   "metadata": {},
   "source": [
    "Note: The decoder is not guaranteed to find a successful recovery operation. The planar $5 \\times 5$ code has distance $d=5$ so we can only guarantee to correct errors up to weight $(d-1) / 2=2$."
   ]
  },
  {
   "cell_type": "markdown",
   "metadata": {},
   "source": [
    "### TI程序并行化测试"
   ]
  },
  {
   "cell_type": "code",
   "execution_count": null,
   "metadata": {},
   "outputs": [],
   "source": [
    "ti_calc_serial(recovery,\n",
    "           error_probability=error_probability,\n",
    "           d=d,\n",
    "           num_int_steps=101,\n",
    "           mcmove_steps_for_derivative=100, \n",
    "           num_samples=1000)"
   ]
  },
  {
   "cell_type": "code",
   "execution_count": 10,
   "metadata": {},
   "outputs": [
    {
     "name": "stdout",
     "output_type": "stream",
     "text": [
      "d=7\n",
      "0.056\n",
      "0.057\n",
      "0.057\n",
      "0.058\n",
      "0.058\n",
      "0.059\n",
      "0.059\n",
      "0.059\n",
      "0.059\n",
      "0.060\n",
      "0.060\n",
      "0.060\n",
      "0.061\n",
      "0.060\n",
      "0.061\n",
      "0.062\n",
      "0.062\n",
      "0.062\n",
      "0.064\n",
      "0.064\n",
      "0.064\n",
      "0.064\n",
      "0.065\n",
      "0.066\n",
      "0.066\n",
      "0.067\n",
      "0.067\n",
      "0.067\n",
      "0.068\n",
      "0.069\n",
      "0.069\n",
      "0.069\n",
      "0.070\n",
      "0.070\n",
      "0.071\n",
      "0.071\n",
      "0.072\n",
      "0.071\n",
      "0.073\n",
      "0.073\n",
      "0.073\n",
      "0.073\n",
      "0.074\n",
      "0.074\n",
      "0.074\n",
      "0.074\n",
      "0.075\n",
      "0.076\n",
      "0.076\n",
      "0.077\n",
      "0.078\n",
      "0.076\n",
      "0.078\n",
      "0.077\n",
      "0.076\n",
      "0.076\n",
      "0.075\n",
      "0.075\n",
      "0.075\n",
      "0.075\n",
      "0.075\n",
      "0.075\n",
      "0.074\n",
      "0.074\n",
      "0.074\n",
      "0.074\n",
      "0.073\n",
      "0.074\n",
      "0.074\n",
      "0.074\n",
      "0.074\n",
      "0.074\n",
      "0.073\n",
      "0.074\n",
      "0.074\n",
      "0.074\n",
      "0.075\n",
      "0.075\n",
      "0.075\n",
      "0.075\n",
      "0.076\n",
      "0.075\n",
      "0.075\n",
      "0.075\n",
      "0.075\n",
      "0.076\n",
      "0.076\n",
      "0.076\n",
      "0.075\n",
      "0.075\n",
      "0.076\n",
      "0.076\n",
      "0.076\n",
      "0.076\n",
      "0.075\n",
      "0.076\n",
      "0.076\n",
      "0.076\n",
      "0.076\n",
      "0.075\n",
      "0.074\n"
     ]
    },
    {
     "data": {
      "text/plain": [
       "(-1.7879036108242559, 0.01740242589720967)"
      ]
     },
     "execution_count": 10,
     "metadata": {},
     "output_type": "execute_result"
    }
   ],
   "source": [
    "print('d={:}'.format(d))\n",
    "ti_calc_Parallel(recovery,\n",
    "           error_probability=error_probability,\n",
    "           d=d,\n",
    "           num_int_steps=101,\n",
    "           mcmove_steps_init = 500000, \n",
    "           mcmove_steps_for_derivative=1000, \n",
    "           num_samples=1000)\n",
    "#print(f\"d={d}\")"
   ]
  },
  {
   "cell_type": "markdown",
   "metadata": {},
   "source": [
    "### TI 自旋编码测试"
   ]
  },
  {
   "cell_type": "code",
   "execution_count": null,
   "metadata": {},
   "outputs": [],
   "source": [
    "ti_calc_serial_spin_encoded(recovery,\n",
    "           error_probability=error_probability,\n",
    "           d=d,\n",
    "           num_int_steps=101,\n",
    "           mcmove_steps_for_derivative=100, \n",
    "           num_samples=1000)"
   ]
  },
  {
   "cell_type": "markdown",
   "metadata": {},
   "source": [
    "### cpu并行TI测试"
   ]
  },
  {
   "cell_type": "markdown",
   "metadata": {},
   "source": [
    "#### 串行TI,不做error bar"
   ]
  },
  {
   "cell_type": "code",
   "execution_count": null,
   "metadata": {},
   "outputs": [],
   "source": [
    "import ipyparallel as ipp\n",
    "import time\n",
    "\n",
    "# 创建一个客户端实例来连接集群\n",
    "client = ipp.Client()\n",
    "\n",
    "# 获取所有可用的引擎\n",
    "dview = client[:]\n",
    "\n",
    "# 导入您的函数\n",
    "from ti_decoder import ti_calc\n",
    "\n",
    "# 这是固定的参数\n",
    "recovery = recovery\n",
    "error_probability = error_probability\n",
    "d = d\n",
    "print(f\"d={d}, error_probability={error_probability}\")\n",
    "# print recovery ^ error (out of curiosity)查看距离和纠错\n",
    "qsu.print_pauli('recovery ^ error:\\n{}'.format(my_code.new_pauli(recovery ^ error)))\n",
    "\n",
    "# 将函数和变量推送到所有的引擎\n",
    "dview.push({'ti_calc': ti_calc, 'recovery': recovery, 'error_probability': error_probability, 'd': d})\n",
    "\n",
    "# 这些是变化的参数\n",
    "num_int_steps_values = list(range(401, 801, 50))\n",
    "mcmove_steps_values = list(range(100, 201, 20))  # 从 ... 到 ...，步长为 ...\n",
    "\n",
    "# 创建一个参数列表，其中每个元素都是一个 (num_int_steps, mcmove_steps) 对\n",
    "params = [(num_steps, mc_steps) for num_steps in num_int_steps_values for mc_steps in mcmove_steps_values]\n",
    "\n",
    "# 定义并行函数，它将在每个引擎上被调用\n",
    "def parallel_function(args):\n",
    "    num_int_steps, mcmove_steps_for_derivative = args  # 从参数对中解包值\n",
    "    return ti_calc(recovery, error_probability, d, num_int_steps=num_int_steps, mcmove_steps_for_derivative=mcmove_steps_for_derivative)\n",
    "\n",
    "# 使用 'map' 方法并行运行函数\n",
    "#results = dview.map_sync(parallel_function, params)\n",
    "\n",
    "# 使用 'map_async' 而不是 'map_sync' 来开始您的计算，这样它们就不会阻塞\n",
    "async_result = dview.map_async(parallel_function, params)\n",
    "\n",
    "print(\"计算开始...\")\n",
    "\n",
    "while not async_result.ready():\n",
    "    print(f\"完成度: {100 * (1 - len(client.outstanding) / len(async_result.msg_ids)):.2f}%\")\n",
    "    time.sleep(15)  # 每5秒检查一次\n",
    "\n",
    "print(\"计算完成。\")\n",
    "\n",
    "results = async_result.get()\n",
    "\n",
    "# 对于每个参数对和对应的结果，打印输出\n",
    "for param, result in zip(params, results):\n",
    "    num_steps, mc_steps = param\n",
    "    print(f\"num_int_steps: {num_steps}, mcmove_steps: {mc_steps}, result: {result}\\n\")  \n",
    "\n",
    "client.close()\n"
   ]
  },
  {
   "cell_type": "markdown",
   "metadata": {},
   "source": [
    "#### 并行TI sample,做error bar"
   ]
  },
  {
   "cell_type": "code",
   "execution_count": null,
   "metadata": {},
   "outputs": [],
   "source": [
    "import ipyparallel as ipp\n",
    "import time\n",
    "\n",
    "# 创建一个客户端实例来连接集群\n",
    "client = ipp.Client()\n",
    "\n",
    "# 获取所有可用的引擎\n",
    "dview = client[:]\n",
    "\n",
    "# 导入您的函数\n",
    "from ti_decoder import ti_calc_Parallel\n",
    "\n",
    "# 这是固定的参数\n",
    "recovery = recovery\n",
    "error_probability = error_probability\n",
    "d = d\n",
    "mcmove_steps_for_derivative = 60000\n",
    "num_samples = 1000\n",
    "print(f\"d={d}, error_probability={error_probability}\")\n",
    "\n",
    "# 将函数和变量推送到所有的引擎\n",
    "dview.push({\n",
    "    'ti_calc_Parallel': ti_calc_Parallel, \n",
    "    'recovery': recovery, \n",
    "    'error_probability': error_probability, \n",
    "    'd': d, \n",
    "    'mcmove_steps_for_derivative': mcmove_steps_for_derivative, \n",
    "    'num_samples': num_samples\n",
    "})\n",
    "\n",
    "# 这些是变化的参数\n",
    "num_int_steps_values = list(range(101, 562, 20))\n",
    "\n",
    "# 定义并行函数，它将在每个引擎上被调用\n",
    "def parallel_function(num_int_steps):\n",
    "    return ti_calc_Parallel(recovery, error_probability, d, num_int_steps=num_int_steps, mcmove_steps_for_derivative=mcmove_steps_for_derivative, num_samples=num_samples)\n",
    "\n",
    "# 使用 'map' 方法并行运行函数\n",
    "async_result = dview.map_async(parallel_function, num_int_steps_values)\n",
    "\n",
    "print(\"计算开始...\")\n",
    "\n",
    "while not async_result.ready():\n",
    "    print(f\"完成度: {100 * (1 - len(client.outstanding) / len(async_result.msg_ids)):.2f}%\")\n",
    "    time.sleep(15)  # 每15秒检查一次\n",
    "\n",
    "print(\"计算完成。\")\n",
    "\n",
    "results = async_result.get()\n",
    "\n",
    "# 对于每个参数和对应的结果，打印输出\n",
    "for num_steps, result in zip(num_int_steps_values, results):\n",
    "    mean_integral, error_bar = result\n",
    "    print(f\"num_int_steps: {num_steps}, mean integral: {mean_integral}, error bar: {error_bar}\\n\")  \n",
    "\n",
    "# 使用with语句和open函数打开一个新的文本文件（如果文件不存在，它会被创建）\n",
    "with open(\"output.txt\", \"w\") as file:\n",
    "    file.write(f\"d={d}, error_probability={error_probability}, mcmove_steps = {mcmove_steps_for_derivative}, num_samples = {num_samples}\\n\")\n",
    "    file.write(f\"The log of their ratio is: {np.log(float(coset_ps[3]) / float(coset_ps[0]))}\\n\\n\")\n",
    "    for num_steps, result in zip(num_int_steps_values, results):\n",
    "        mean_integral, error_bar = result\n",
    "        file.write(f\"num_int_steps: {num_steps}, mean integral: {mean_integral}, error bar: {error_bar}\\n\")\n",
    "\n",
    "client.close()"
   ]
  },
  {
   "cell_type": "markdown",
   "metadata": {},
   "source": [
    "## Try starting configuration from MWPM"
   ]
  },
  {
   "cell_type": "code",
   "execution_count": null,
   "metadata": {},
   "outputs": [],
   "source": [
    "mwpm = PlanarMWPMDecoder()\n",
    "mwpm_recovery = mwpm.decode(my_code, syndrome)\n",
    "qsu.print_pauli('recovery:\\n{}'.format(my_code.new_pauli(mwpm_recovery)))"
   ]
  },
  {
   "cell_type": "code",
   "execution_count": null,
   "metadata": {},
   "outputs": [],
   "source": [
    "# print recovery ^ error (out of curiosity)\n",
    "qsu.print_pauli('recovery ^ error:\\n{}'.format(my_code.new_pauli(mwpm_recovery ^ error)))"
   ]
  },
  {
   "cell_type": "code",
   "execution_count": null,
   "metadata": {},
   "outputs": [],
   "source": [
    "# success iff recovery ^ error commutes with logicals\n",
    "print(pt.bsp(mwpm_recovery ^ error, my_code.logicals.T))"
   ]
  },
  {
   "cell_type": "code",
   "execution_count": null,
   "metadata": {},
   "outputs": [],
   "source": [
    "ti_calc(mwpm_recovery, error_probability=error_probability,\n",
    "        d=d,\n",
    "        num_int_steps=101)\n"
   ]
  }
 ],
 "metadata": {
  "kernelspec": {
   "display_name": "base",
   "language": "python",
   "name": "python3"
  },
  "language_info": {
   "codemirror_mode": {
    "name": "ipython",
    "version": 3
   },
   "file_extension": ".py",
   "mimetype": "text/x-python",
   "name": "python",
   "nbconvert_exporter": "python",
   "pygments_lexer": "ipython3",
   "version": "3.11.5"
  },
  "orig_nbformat": 4
 },
 "nbformat": 4,
 "nbformat_minor": 2
}
