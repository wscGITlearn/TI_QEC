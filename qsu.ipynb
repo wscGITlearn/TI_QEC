{
 "cells": [
  {
   "cell_type": "code",
   "execution_count": 1,
   "metadata": {
    "collapsed": true
   },
   "outputs": [],
   "source": [
    "# utility functions for use in demo notebooks\n",
    "from IPython.display import HTML\n",
    "\n",
    "# namespace\n",
    "class qsu:\n",
    "    \n",
    "    @staticmethod\n",
    "    def print_pauli(pauli):\n",
    "        text = str(pauli)\n",
    "        text = text.replace('X', '<span style=\"color:red; font-weight:bold\">X</span>')\n",
    "        text = text.replace('Y', '<span style=\"color:magenta; font-weight:bold\">Y</span>')\n",
    "        text = text.replace('Z', '<span style=\"color:blue; font-weight:bold\">Z</span>')\n",
    "        #display(HTML('<div class=\"highlight\"><pre style=\"line-height:1!important;\">{}</pre></div>'.format(text)))\n",
    "        display(HTML('<div class=\"highlight\"><pre style=\"line-height:1!important; font-family: \\'Courier New\\', monospace;\">{}</pre></div>'.format(text))) \n",
    "        "
   ]
  }
 ],
 "metadata": {
  "kernelspec": {
   "display_name": "Python 3",
   "language": "python",
   "name": "python3"
  },
  "language_info": {
   "codemirror_mode": {
    "name": "ipython",
    "version": 3
   },
   "file_extension": ".py",
   "mimetype": "text/x-python",
   "name": "python",
   "nbconvert_exporter": "python",
   "pygments_lexer": "ipython3",
   "version": "3.7.7"
  }
 },
 "nbformat": 4,
 "nbformat_minor": 2
}
