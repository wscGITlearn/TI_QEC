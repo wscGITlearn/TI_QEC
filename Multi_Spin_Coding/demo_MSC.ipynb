{
 "cells": [
  {
   "cell_type": "code",
   "execution_count": 2,
   "metadata": {},
   "outputs": [
    {
     "name": "stdout",
     "output_type": "stream",
     "text": [
      "PlanarCode(7, 7)\n",
      "PhaseFlipErrorModel()\n"
     ]
    }
   ],
   "source": [
    "%run ../../qsu.ipynb  # color-printing functions\n",
    "import numpy as np\n",
    "from qecsim import paulitools as pt\n",
    "from qecsim.models.generic import DepolarizingErrorModel, BitFlipErrorModel, PhaseFlipErrorModel\n",
    "from qecsim.models.planar import PlanarCode, PlanarMWPMDecoder, PlanarMPSDecoder\n",
    "from TI_MSC import ti_calc_serial_spin_encoded, ti_calc_Parallel_spin_encoded\n",
    "\n",
    "# initialise models\n",
    "d = 7\n",
    "my_code = PlanarCode(d, d)\n",
    "my_error_model = PhaseFlipErrorModel()\n",
    "#my_decoder = PlanarMWPMDecoder()\n",
    "# print models\n",
    "print(my_code)\n",
    "print(my_error_model)"
   ]
  },
  {
   "cell_type": "code",
   "execution_count": 3,
   "metadata": {},
   "outputs": [
    {
     "data": {
      "text/html": [
       "<div class=\"highlight\"><pre style=\"line-height:1!important; font-family: 'Courier New', monospace;\">error:\n",
       "·─┬─·─┬─·─┬─·─┬─·─┬─·─┬─·\n",
       "  ·   ·   ·   ·   <span style=\"color:blue; font-weight:bold\">Z</span>   ·  \n",
       "·─┼─·─┼─·─┼─·─┼─·─┼─·─┼─·\n",
       "  ·   ·   ·   ·   ·   ·  \n",
       "<span style=\"color:blue; font-weight:bold\">Z</span>─┼─·─┼─·─┼─·─┼─·─┼─·─┼─·\n",
       "  ·   ·   ·   ·   ·   ·  \n",
       "·─┼─·─┼─·─┼─·─┼─<span style=\"color:blue; font-weight:bold\">Z</span>─┼─·─┼─·\n",
       "  ·   ·   ·   ·   ·   ·  \n",
       "·─┼─·─┼─·─┼─·─┼─·─┼─·─┼─·\n",
       "  ·   ·   ·   <span style=\"color:blue; font-weight:bold\">Z</span>   ·   ·  \n",
       "·─┼─<span style=\"color:blue; font-weight:bold\">Z</span>─┼─<span style=\"color:blue; font-weight:bold\">Z</span>─┼─·─┼─·─┼─·─┼─·\n",
       "  ·   <span style=\"color:blue; font-weight:bold\">Z</span>   ·   ·   ·   ·  \n",
       "·─┴─·─┴─·─┴─·─┴─·─┴─·─┴─<span style=\"color:blue; font-weight:bold\">Z</span></pre></div>"
      ],
      "text/plain": [
       "<IPython.core.display.HTML object>"
      ]
     },
     "metadata": {},
     "output_type": "display_data"
    }
   ],
   "source": [
    "# set physical error probability to 10%\n",
    "error_probability = 0.1\n",
    "# seed random number generator for repeatability\n",
    "rng = np.random.default_rng(1111)\n",
    "\n",
    "# error: random error based on error probability\n",
    "error = my_error_model.generate(my_code, error_probability, rng)\n",
    "qsu.print_pauli('error:\\n{}'.format(my_code.new_pauli(error)))"
   ]
  },
  {
   "cell_type": "code",
   "execution_count": 4,
   "metadata": {},
   "outputs": [
    {
     "data": {
      "text/html": [
       "<div class=\"highlight\"><pre style=\"line-height:1!important; font-family: 'Courier New', monospace;\">syndrome:\n",
       "──┬───┬───┬───┬───<span style=\"color:red; font-weight:bold\">X</span>───┬──\n",
       "  │   │   │   │   │   │  \n",
       "──┼───┼───┼───┼───<span style=\"color:red; font-weight:bold\">X</span>───┼──\n",
       "  │   │   │   │   │   │  \n",
       "──<span style=\"color:red; font-weight:bold\">X</span>───┼───┼───┼───┼───┼──\n",
       "  │   │   │   │   │   │  \n",
       "──┼───┼───┼───<span style=\"color:red; font-weight:bold\">X</span>───<span style=\"color:red; font-weight:bold\">X</span>───┼──\n",
       "  │   │   │   │   │   │  \n",
       "──┼───┼───┼───<span style=\"color:red; font-weight:bold\">X</span>───┼───┼──\n",
       "  │   │   │   │   │   │  \n",
       "──<span style=\"color:red; font-weight:bold\">X</span>───<span style=\"color:red; font-weight:bold\">X</span>───<span style=\"color:red; font-weight:bold\">X</span>───<span style=\"color:red; font-weight:bold\">X</span>───┼───┼──\n",
       "  │   │   │   │   │   │  \n",
       "──┴───<span style=\"color:red; font-weight:bold\">X</span>───┴───┴───┴───<span style=\"color:red; font-weight:bold\">X</span>──</pre></div>"
      ],
      "text/plain": [
       "<IPython.core.display.HTML object>"
      ]
     },
     "metadata": {},
     "output_type": "display_data"
    }
   ],
   "source": [
    "# syndrome: stabilizers that do not commute with the error\n",
    "syndrome = pt.bsp(error, my_code.stabilizers.T)\n",
    "qsu.print_pauli('syndrome:\\n{}'.format(my_code.ascii_art(syndrome)))"
   ]
  },
  {
   "cell_type": "code",
   "execution_count": 5,
   "metadata": {},
   "outputs": [
    {
     "name": "stdout",
     "output_type": "stream",
     "text": [
      "total prob of each coset (mpf('1.5758944953105232e-11'), mpf('0.0'), mpf('0.0'), mpf('2.6072957444614728e-12'))\n",
      "Only the first and last are non-zero because only Z errors.\n",
      "The log of their ratio is: -1.7990945666238425\n"
     ]
    }
   ],
   "source": [
    "# from mps decoder\n",
    "my_mps_decoder = PlanarMPSDecoder(chi=6)\n",
    "coset_ps, recoveries = my_mps_decoder.calc_coset_probabilities(\n",
    "    my_code,\n",
    "    syndrome,\n",
    "    error_model=my_error_model,\n",
    "    error_probability=error_probability)\n",
    "\n",
    "print('total prob of each coset', coset_ps)\n",
    "print('Only the first and last are non-zero because only Z errors.')\n",
    "print('The log of their ratio is:',\n",
    "      np.log(float(coset_ps[3]) / float(coset_ps[0])))"
   ]
  },
  {
   "cell_type": "code",
   "execution_count": 6,
   "metadata": {},
   "outputs": [
    {
     "data": {
      "text/html": [
       "<div class=\"highlight\"><pre style=\"line-height:1!important; font-family: 'Courier New', monospace;\">recovery:\n",
       "·─┬─·─┬─·─┬─·─┬─·─┬─<span style=\"color:blue; font-weight:bold\">Z</span>─┬─<span style=\"color:blue; font-weight:bold\">Z</span>\n",
       "  ·   ·   ·   ·   ·   ·  \n",
       "·─┼─·─┼─·─┼─·─┼─·─┼─<span style=\"color:blue; font-weight:bold\">Z</span>─┼─<span style=\"color:blue; font-weight:bold\">Z</span>\n",
       "  ·   ·   ·   ·   ·   ·  \n",
       "<span style=\"color:blue; font-weight:bold\">Z</span>─┼─·─┼─·─┼─·─┼─·─┼─·─┼─·\n",
       "  ·   ·   ·   ·   ·   ·  \n",
       "·─┼─·─┼─·─┼─·─┼─<span style=\"color:blue; font-weight:bold\">Z</span>─┼─·─┼─·\n",
       "  ·   ·   ·   ·   ·   ·  \n",
       "·─┼─·─┼─·─┼─·─┼─<span style=\"color:blue; font-weight:bold\">Z</span>─┼─<span style=\"color:blue; font-weight:bold\">Z</span>─┼─<span style=\"color:blue; font-weight:bold\">Z</span>\n",
       "  ·   ·   ·   ·   ·   ·  \n",
       "<span style=\"color:blue; font-weight:bold\">Z</span>─┼─·─┼─<span style=\"color:blue; font-weight:bold\">Z</span>─┼─·─┼─<span style=\"color:blue; font-weight:bold\">Z</span>─┼─<span style=\"color:blue; font-weight:bold\">Z</span>─┼─<span style=\"color:blue; font-weight:bold\">Z</span>\n",
       "  ·   ·   ·   ·   ·   ·  \n",
       "<span style=\"color:blue; font-weight:bold\">Z</span>─┴─<span style=\"color:blue; font-weight:bold\">Z</span>─┴─·─┴─·─┴─·─┴─·─┴─<span style=\"color:blue; font-weight:bold\">Z</span></pre></div>"
      ],
      "text/plain": [
       "<IPython.core.display.HTML object>"
      ]
     },
     "metadata": {},
     "output_type": "display_data"
    }
   ],
   "source": [
    "recovery = recoveries[0].to_bsf()\n",
    "qsu.print_pauli('recovery:\\n{}'.format(my_code.new_pauli(recovery)))"
   ]
  },
  {
   "cell_type": "code",
   "execution_count": 7,
   "metadata": {},
   "outputs": [
    {
     "name": "stdout",
     "output_type": "stream",
     "text": [
      "[0 0]\n"
     ]
    }
   ],
   "source": [
    "# success iff recovery ^ error commutes with logicals\n",
    "print(pt.bsp(recovery ^ error, my_code.logicals.T))"
   ]
  },
  {
   "cell_type": "code",
   "execution_count": 8,
   "metadata": {},
   "outputs": [
    {
     "data": {
      "text/html": [
       "<div class=\"highlight\"><pre style=\"line-height:1!important; font-family: 'Courier New', monospace;\">recovery ^ error:\n",
       "·─┬─·─┬─·─┬─·─┬─·─┬─<span style=\"color:blue; font-weight:bold\">Z</span>─┬─<span style=\"color:blue; font-weight:bold\">Z</span>\n",
       "  ·   ·   ·   ·   <span style=\"color:blue; font-weight:bold\">Z</span>   ·  \n",
       "·─┼─·─┼─·─┼─·─┼─·─┼─<span style=\"color:blue; font-weight:bold\">Z</span>─┼─<span style=\"color:blue; font-weight:bold\">Z</span>\n",
       "  ·   ·   ·   ·   ·   ·  \n",
       "·─┼─·─┼─·─┼─·─┼─·─┼─·─┼─·\n",
       "  ·   ·   ·   ·   ·   ·  \n",
       "·─┼─·─┼─·─┼─·─┼─·─┼─·─┼─·\n",
       "  ·   ·   ·   ·   ·   ·  \n",
       "·─┼─·─┼─·─┼─·─┼─<span style=\"color:blue; font-weight:bold\">Z</span>─┼─<span style=\"color:blue; font-weight:bold\">Z</span>─┼─<span style=\"color:blue; font-weight:bold\">Z</span>\n",
       "  ·   ·   ·   <span style=\"color:blue; font-weight:bold\">Z</span>   ·   ·  \n",
       "<span style=\"color:blue; font-weight:bold\">Z</span>─┼─<span style=\"color:blue; font-weight:bold\">Z</span>─┼─·─┼─·─┼─<span style=\"color:blue; font-weight:bold\">Z</span>─┼─<span style=\"color:blue; font-weight:bold\">Z</span>─┼─<span style=\"color:blue; font-weight:bold\">Z</span>\n",
       "  ·   <span style=\"color:blue; font-weight:bold\">Z</span>   ·   ·   ·   ·  \n",
       "<span style=\"color:blue; font-weight:bold\">Z</span>─┴─<span style=\"color:blue; font-weight:bold\">Z</span>─┴─·─┴─·─┴─·─┴─·─┴─·</pre></div>"
      ],
      "text/plain": [
       "<IPython.core.display.HTML object>"
      ]
     },
     "metadata": {},
     "output_type": "display_data"
    }
   ],
   "source": [
    "# couriosity:recovery ^ error\n",
    "qsu.print_pauli('recovery ^ error:\\n{}'.format(my_code.new_pauli(recovery ^ error)))"
   ]
  },
  {
   "cell_type": "code",
   "execution_count": 9,
   "metadata": {},
   "outputs": [
    {
     "name": "stdout",
     "output_type": "stream",
     "text": [
      "initial balance achieved\n",
      "l = 0.000, energy derivative = -71966.4400, spin flip ratio = 0.295\n",
      "l = 0.010, energy derivative = -72104.1000, spin flip ratio = 0.293\n",
      "l = 0.020, energy derivative = -72239.9560, spin flip ratio = 0.291\n",
      "l = 0.030, energy derivative = -72367.9360, spin flip ratio = 0.290\n",
      "l = 0.040, energy derivative = -72494.4720, spin flip ratio = 0.290\n",
      "l = 0.050, energy derivative = -72614.2120, spin flip ratio = 0.287\n",
      "l = 0.060, energy derivative = -72729.8200, spin flip ratio = 0.287\n",
      "l = 0.070, energy derivative = -72840.8800, spin flip ratio = 0.284\n",
      "l = 0.080, energy derivative = -72944.9080, spin flip ratio = 0.283\n",
      "l = 0.090, energy derivative = -73050.4840, spin flip ratio = 0.283\n",
      "l = 0.100, energy derivative = -73152.5480, spin flip ratio = 0.281\n",
      "l = 0.110, energy derivative = -73248.8520, spin flip ratio = 0.280\n",
      "l = 0.120, energy derivative = -73342.3800, spin flip ratio = 0.281\n",
      "l = 0.130, energy derivative = -73431.5880, spin flip ratio = 0.279\n",
      "l = 0.140, energy derivative = -73515.8440, spin flip ratio = 0.277\n",
      "l = 0.150, energy derivative = -73598.1280, spin flip ratio = 0.276\n",
      "l = 0.160, energy derivative = -73674.8480, spin flip ratio = 0.276\n",
      "l = 0.170, energy derivative = -73752.6280, spin flip ratio = 0.276\n",
      "l = 0.180, energy derivative = -73826.4720, spin flip ratio = 0.274\n",
      "l = 0.190, energy derivative = -73899.9440, spin flip ratio = 0.274\n",
      "l = 0.200, energy derivative = -73969.4400, spin flip ratio = 0.274\n",
      "l = 0.210, energy derivative = -74035.5800, spin flip ratio = 0.273\n",
      "l = 0.220, energy derivative = -74099.1560, spin flip ratio = 0.272\n",
      "l = 0.230, energy derivative = -74157.5000, spin flip ratio = 0.271\n",
      "l = 0.240, energy derivative = -74212.3160, spin flip ratio = 0.271\n",
      "l = 0.250, energy derivative = -74264.6160, spin flip ratio = 0.271\n",
      "l = 0.260, energy derivative = -74317.1640, spin flip ratio = 0.269\n",
      "l = 0.270, energy derivative = -74367.3680, spin flip ratio = 0.270\n",
      "l = 0.280, energy derivative = -74411.2560, spin flip ratio = 0.270\n",
      "l = 0.290, energy derivative = -74453.7160, spin flip ratio = 0.270\n",
      "l = 0.300, energy derivative = -74490.4720, spin flip ratio = 0.269\n",
      "l = 0.310, energy derivative = -74528.7520, spin flip ratio = 0.270\n",
      "l = 0.320, energy derivative = -74563.3840, spin flip ratio = 0.270\n",
      "l = 0.330, energy derivative = -74598.1080, spin flip ratio = 0.270\n",
      "l = 0.340, energy derivative = -74628.8680, spin flip ratio = 0.269\n",
      "l = 0.350, energy derivative = -74651.5360, spin flip ratio = 0.270\n",
      "l = 0.360, energy derivative = -74676.4680, spin flip ratio = 0.271\n",
      "l = 0.370, energy derivative = -74696.6200, spin flip ratio = 0.271\n",
      "l = 0.380, energy derivative = -74713.6880, spin flip ratio = 0.270\n",
      "l = 0.390, energy derivative = -74729.0400, spin flip ratio = 0.271\n",
      "l = 0.400, energy derivative = -74739.0280, spin flip ratio = 0.270\n",
      "l = 0.410, energy derivative = -74744.8040, spin flip ratio = 0.270\n",
      "l = 0.420, energy derivative = -74748.5800, spin flip ratio = 0.271\n",
      "l = 0.430, energy derivative = -74747.6800, spin flip ratio = 0.271\n",
      "l = 0.440, energy derivative = -74745.3960, spin flip ratio = 0.272\n",
      "l = 0.450, energy derivative = -74739.1800, spin flip ratio = 0.273\n",
      "l = 0.460, energy derivative = -74730.5480, spin flip ratio = 0.274\n",
      "l = 0.470, energy derivative = -74717.8080, spin flip ratio = 0.274\n",
      "l = 0.480, energy derivative = -74699.7240, spin flip ratio = 0.275\n",
      "l = 0.490, energy derivative = -74676.1480, spin flip ratio = 0.276\n",
      "l = 0.500, energy derivative = -74646.9920, spin flip ratio = 0.275\n",
      "l = 0.510, energy derivative = -74617.1000, spin flip ratio = 0.275\n",
      "l = 0.520, energy derivative = -74581.7760, spin flip ratio = 0.275\n",
      "l = 0.530, energy derivative = -74543.6720, spin flip ratio = 0.275\n",
      "l = 0.540, energy derivative = -74502.3880, spin flip ratio = 0.274\n",
      "l = 0.550, energy derivative = -74456.7280, spin flip ratio = 0.274\n",
      "l = 0.560, energy derivative = -74410.8760, spin flip ratio = 0.273\n",
      "l = 0.570, energy derivative = -74361.3120, spin flip ratio = 0.274\n",
      "l = 0.580, energy derivative = -74303.3000, spin flip ratio = 0.272\n",
      "l = 0.590, energy derivative = -74243.9160, spin flip ratio = 0.271\n",
      "l = 0.600, energy derivative = -74182.6640, spin flip ratio = 0.271\n",
      "l = 0.610, energy derivative = -74116.5000, spin flip ratio = 0.272\n",
      "l = 0.620, energy derivative = -74047.9360, spin flip ratio = 0.270\n",
      "l = 0.630, energy derivative = -73977.2480, spin flip ratio = 0.271\n",
      "l = 0.640, energy derivative = -73903.5400, spin flip ratio = 0.268\n",
      "l = 0.650, energy derivative = -73827.3080, spin flip ratio = 0.270\n",
      "l = 0.660, energy derivative = -73749.5680, spin flip ratio = 0.270\n",
      "l = 0.670, energy derivative = -73670.0120, spin flip ratio = 0.269\n",
      "l = 0.680, energy derivative = -73584.3040, spin flip ratio = 0.270\n",
      "l = 0.690, energy derivative = -73498.9720, spin flip ratio = 0.270\n",
      "l = 0.700, energy derivative = -73407.6120, spin flip ratio = 0.271\n",
      "l = 0.710, energy derivative = -73310.9120, spin flip ratio = 0.270\n",
      "l = 0.720, energy derivative = -73213.2840, spin flip ratio = 0.271\n",
      "l = 0.730, energy derivative = -73111.8120, spin flip ratio = 0.271\n",
      "l = 0.740, energy derivative = -73010.0400, spin flip ratio = 0.272\n",
      "l = 0.750, energy derivative = -72903.0080, spin flip ratio = 0.271\n",
      "l = 0.760, energy derivative = -72795.8880, spin flip ratio = 0.271\n",
      "l = 0.770, energy derivative = -72684.0960, spin flip ratio = 0.272\n",
      "l = 0.780, energy derivative = -72573.6880, spin flip ratio = 0.273\n",
      "l = 0.790, energy derivative = -72459.8960, spin flip ratio = 0.273\n",
      "l = 0.800, energy derivative = -72342.9640, spin flip ratio = 0.273\n",
      "l = 0.810, energy derivative = -72221.2240, spin flip ratio = 0.274\n",
      "l = 0.820, energy derivative = -72099.2120, spin flip ratio = 0.274\n",
      "l = 0.830, energy derivative = -71972.3160, spin flip ratio = 0.274\n",
      "l = 0.840, energy derivative = -71840.6880, spin flip ratio = 0.276\n",
      "l = 0.850, energy derivative = -71711.1240, spin flip ratio = 0.277\n",
      "l = 0.860, energy derivative = -71573.5960, spin flip ratio = 0.278\n",
      "l = 0.870, energy derivative = -71433.7080, spin flip ratio = 0.278\n",
      "l = 0.880, energy derivative = -71288.7240, spin flip ratio = 0.280\n",
      "l = 0.890, energy derivative = -71141.2120, spin flip ratio = 0.280\n",
      "l = 0.900, energy derivative = -70987.8520, spin flip ratio = 0.283\n",
      "l = 0.910, energy derivative = -70829.2320, spin flip ratio = 0.284\n",
      "l = 0.920, energy derivative = -70671.4800, spin flip ratio = 0.283\n",
      "l = 0.930, energy derivative = -70508.8680, spin flip ratio = 0.286\n",
      "l = 0.940, energy derivative = -70344.3280, spin flip ratio = 0.286\n",
      "l = 0.950, energy derivative = -70175.4600, spin flip ratio = 0.287\n",
      "l = 0.960, energy derivative = -70000.8080, spin flip ratio = 0.288\n",
      "l = 0.970, energy derivative = -69816.2120, spin flip ratio = 0.291\n",
      "l = 0.980, energy derivative = -69632.4200, spin flip ratio = 0.292\n",
      "l = 0.990, energy derivative = -69443.7680, spin flip ratio = 0.293\n",
      "l = 1.000, energy derivative = -69248.7280, spin flip ratio = 0.296\n"
     ]
    },
    {
     "data": {
      "text/plain": [
       "(-80506.56198542634,\n",
       " 4851.754195521237,\n",
       " array([[ 1.,  1.,  1.,  1.,  1., -1., -1.],\n",
       "        [-1.,  1.,  1.,  1.,  1.,  1.,  1.],\n",
       "        [ 1.,  1.,  1.,  1., -1.,  1.,  1.],\n",
       "        [-1., -1., -1., -1.,  1.,  1.,  1.],\n",
       "        [-1.,  1., -1.,  1., -1., -1., -1.]]),\n",
       " array([[1, 1, 1, 1, 1, 1],\n",
       "        [1, 1, 1, 1, 1, 1],\n",
       "        [1, 1, 1, 1, 1, 1],\n",
       "        [1, 1, 1, 1, 1, 1],\n",
       "        [1, 1, 1, 1, 1, 1],\n",
       "        [1, 1, 1, 1, 1, 1]], dtype=int32),\n",
       " array([[ 1.,  1.,  1.,  1.,  1., -1., -1.],\n",
       "        [ 0.,  0.,  0.,  0.,  0.,  0.,  0.],\n",
       "        [ 0.,  0.,  0.,  0.,  0.,  0.,  0.],\n",
       "        [ 0.,  0.,  0.,  0.,  0.,  0.,  0.],\n",
       "        [ 0.,  0.,  0.,  0.,  0.,  0.,  0.],\n",
       "        [-1., -1.,  1.,  1.,  1.,  1., -1.]]))"
      ]
     },
     "execution_count": 9,
     "metadata": {},
     "output_type": "execute_result"
    }
   ],
   "source": [
    "ti_calc_Parallel_spin_encoded(recovery,\n",
    "               error_probability=error_probability,\n",
    "               d=d,\n",
    "               num_int_steps=101,\n",
    "               mcmove_steps_init = 500000, \n",
    "               mcmove_steps_for_derivative=1000,\n",
    "               num_samples=1000)"
   ]
  },
  {
   "cell_type": "code",
   "execution_count": null,
   "metadata": {},
   "outputs": [],
   "source": []
  }
 ],
 "metadata": {
  "kernelspec": {
   "display_name": "ti_qec",
   "language": "python",
   "name": "python3"
  },
  "language_info": {
   "codemirror_mode": {
    "name": "ipython",
    "version": 3
   },
   "file_extension": ".py",
   "mimetype": "text/x-python",
   "name": "python",
   "nbconvert_exporter": "python",
   "pygments_lexer": "ipython3",
   "version": "3.11.5"
  }
 },
 "nbformat": 4,
 "nbformat_minor": 2
}
