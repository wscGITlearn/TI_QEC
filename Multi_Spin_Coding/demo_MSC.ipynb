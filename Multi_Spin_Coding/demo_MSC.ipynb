{
 "cells": [
  {
   "cell_type": "code",
   "execution_count": 2,
   "metadata": {},
   "outputs": [
    {
     "name": "stdout",
     "output_type": "stream",
     "text": [
      "PlanarCode(7, 7)\n",
      "PhaseFlipErrorModel()\n"
     ]
    }
   ],
   "source": [
    "%run ../../qsu.ipynb  # color-printing functions\n",
    "import numpy as np\n",
    "from qecsim import paulitools as pt\n",
    "from qecsim.models.generic import DepolarizingErrorModel, BitFlipErrorModel, PhaseFlipErrorModel\n",
    "from qecsim.models.planar import PlanarCode, PlanarMWPMDecoder, PlanarMPSDecoder\n",
    "from TI_MSC import ti_calc_serial_spin_encoded, ti_calc_Parallel_spin_encoded\n",
    "\n",
    "# initialise models\n",
    "d = 7\n",
    "my_code = PlanarCode(d, d)\n",
    "my_error_model = PhaseFlipErrorModel()\n",
    "#my_decoder = PlanarMWPMDecoder()\n",
    "# print models\n",
    "print(my_code)\n",
    "print(my_error_model)"
   ]
  },
  {
   "cell_type": "code",
   "execution_count": 3,
   "metadata": {},
   "outputs": [
    {
     "data": {
      "text/html": [
       "<div class=\"highlight\"><pre style=\"line-height:1!important; font-family: 'Courier New', monospace;\">error:\n",
       "·─┬─·─┬─·─┬─·─┬─·─┬─·─┬─·\n",
       "  ·   ·   ·   ·   <span style=\"color:blue; font-weight:bold\">Z</span>   ·  \n",
       "·─┼─·─┼─·─┼─·─┼─·─┼─·─┼─·\n",
       "  ·   ·   ·   ·   ·   ·  \n",
       "<span style=\"color:blue; font-weight:bold\">Z</span>─┼─·─┼─·─┼─·─┼─·─┼─·─┼─·\n",
       "  ·   ·   ·   ·   ·   ·  \n",
       "·─┼─·─┼─·─┼─·─┼─<span style=\"color:blue; font-weight:bold\">Z</span>─┼─·─┼─·\n",
       "  ·   ·   ·   ·   ·   ·  \n",
       "·─┼─·─┼─·─┼─·─┼─·─┼─·─┼─·\n",
       "  ·   ·   ·   <span style=\"color:blue; font-weight:bold\">Z</span>   ·   ·  \n",
       "·─┼─<span style=\"color:blue; font-weight:bold\">Z</span>─┼─<span style=\"color:blue; font-weight:bold\">Z</span>─┼─·─┼─·─┼─·─┼─·\n",
       "  ·   <span style=\"color:blue; font-weight:bold\">Z</span>   ·   ·   ·   ·  \n",
       "·─┴─·─┴─·─┴─·─┴─·─┴─·─┴─<span style=\"color:blue; font-weight:bold\">Z</span></pre></div>"
      ],
      "text/plain": [
       "<IPython.core.display.HTML object>"
      ]
     },
     "metadata": {},
     "output_type": "display_data"
    }
   ],
   "source": [
    "# set physical error probability to 10%\n",
    "error_probability = 0.1\n",
    "# seed random number generator for repeatability\n",
    "rng = np.random.default_rng(1111)\n",
    "\n",
    "# error: random error based on error probability\n",
    "error = my_error_model.generate(my_code, error_probability, rng)\n",
    "qsu.print_pauli('error:\\n{}'.format(my_code.new_pauli(error)))"
   ]
  },
  {
   "cell_type": "code",
   "execution_count": 4,
   "metadata": {},
   "outputs": [
    {
     "data": {
      "text/html": [
       "<div class=\"highlight\"><pre style=\"line-height:1!important; font-family: 'Courier New', monospace;\">syndrome:\n",
       "──┬───┬───┬───┬───<span style=\"color:red; font-weight:bold\">X</span>───┬──\n",
       "  │   │   │   │   │   │  \n",
       "──┼───┼───┼───┼───<span style=\"color:red; font-weight:bold\">X</span>───┼──\n",
       "  │   │   │   │   │   │  \n",
       "──<span style=\"color:red; font-weight:bold\">X</span>───┼───┼───┼───┼───┼──\n",
       "  │   │   │   │   │   │  \n",
       "──┼───┼───┼───<span style=\"color:red; font-weight:bold\">X</span>───<span style=\"color:red; font-weight:bold\">X</span>───┼──\n",
       "  │   │   │   │   │   │  \n",
       "──┼───┼───┼───<span style=\"color:red; font-weight:bold\">X</span>───┼───┼──\n",
       "  │   │   │   │   │   │  \n",
       "──<span style=\"color:red; font-weight:bold\">X</span>───<span style=\"color:red; font-weight:bold\">X</span>───<span style=\"color:red; font-weight:bold\">X</span>───<span style=\"color:red; font-weight:bold\">X</span>───┼───┼──\n",
       "  │   │   │   │   │   │  \n",
       "──┴───<span style=\"color:red; font-weight:bold\">X</span>───┴───┴───┴───<span style=\"color:red; font-weight:bold\">X</span>──</pre></div>"
      ],
      "text/plain": [
       "<IPython.core.display.HTML object>"
      ]
     },
     "metadata": {},
     "output_type": "display_data"
    }
   ],
   "source": [
    "# syndrome: stabilizers that do not commute with the error\n",
    "syndrome = pt.bsp(error, my_code.stabilizers.T)\n",
    "qsu.print_pauli('syndrome:\\n{}'.format(my_code.ascii_art(syndrome)))"
   ]
  },
  {
   "cell_type": "code",
   "execution_count": 5,
   "metadata": {},
   "outputs": [
    {
     "name": "stdout",
     "output_type": "stream",
     "text": [
      "total prob of each coset (mpf('1.5758944953105232e-11'), mpf('0.0'), mpf('0.0'), mpf('2.6072957444614728e-12'))\n",
      "Only the first and last are non-zero because only Z errors.\n",
      "The log of their ratio is: -1.7990945666238425\n"
     ]
    }
   ],
   "source": [
    "# from mps decoder\n",
    "my_mps_decoder = PlanarMPSDecoder(chi=6)\n",
    "coset_ps, recoveries = my_mps_decoder.calc_coset_probabilities(\n",
    "    my_code,\n",
    "    syndrome,\n",
    "    error_model=my_error_model,\n",
    "    error_probability=error_probability)\n",
    "\n",
    "print('total prob of each coset', coset_ps)\n",
    "print('Only the first and last are non-zero because only Z errors.')\n",
    "print('The log of their ratio is:',\n",
    "      np.log(float(coset_ps[3]) / float(coset_ps[0])))"
   ]
  },
  {
   "cell_type": "code",
   "execution_count": 6,
   "metadata": {},
   "outputs": [
    {
     "data": {
      "text/html": [
       "<div class=\"highlight\"><pre style=\"line-height:1!important; font-family: 'Courier New', monospace;\">recovery:\n",
       "·─┬─·─┬─·─┬─·─┬─·─┬─<span style=\"color:blue; font-weight:bold\">Z</span>─┬─<span style=\"color:blue; font-weight:bold\">Z</span>\n",
       "  ·   ·   ·   ·   ·   ·  \n",
       "·─┼─·─┼─·─┼─·─┼─·─┼─<span style=\"color:blue; font-weight:bold\">Z</span>─┼─<span style=\"color:blue; font-weight:bold\">Z</span>\n",
       "  ·   ·   ·   ·   ·   ·  \n",
       "<span style=\"color:blue; font-weight:bold\">Z</span>─┼─·─┼─·─┼─·─┼─·─┼─·─┼─·\n",
       "  ·   ·   ·   ·   ·   ·  \n",
       "·─┼─·─┼─·─┼─·─┼─<span style=\"color:blue; font-weight:bold\">Z</span>─┼─·─┼─·\n",
       "  ·   ·   ·   ·   ·   ·  \n",
       "·─┼─·─┼─·─┼─·─┼─<span style=\"color:blue; font-weight:bold\">Z</span>─┼─<span style=\"color:blue; font-weight:bold\">Z</span>─┼─<span style=\"color:blue; font-weight:bold\">Z</span>\n",
       "  ·   ·   ·   ·   ·   ·  \n",
       "<span style=\"color:blue; font-weight:bold\">Z</span>─┼─·─┼─<span style=\"color:blue; font-weight:bold\">Z</span>─┼─·─┼─<span style=\"color:blue; font-weight:bold\">Z</span>─┼─<span style=\"color:blue; font-weight:bold\">Z</span>─┼─<span style=\"color:blue; font-weight:bold\">Z</span>\n",
       "  ·   ·   ·   ·   ·   ·  \n",
       "<span style=\"color:blue; font-weight:bold\">Z</span>─┴─<span style=\"color:blue; font-weight:bold\">Z</span>─┴─·─┴─·─┴─·─┴─·─┴─<span style=\"color:blue; font-weight:bold\">Z</span></pre></div>"
      ],
      "text/plain": [
       "<IPython.core.display.HTML object>"
      ]
     },
     "metadata": {},
     "output_type": "display_data"
    }
   ],
   "source": [
    "recovery = recoveries[0].to_bsf()\n",
    "qsu.print_pauli('recovery:\\n{}'.format(my_code.new_pauli(recovery)))"
   ]
  },
  {
   "cell_type": "code",
   "execution_count": 7,
   "metadata": {},
   "outputs": [
    {
     "name": "stdout",
     "output_type": "stream",
     "text": [
      "[0 0]\n"
     ]
    }
   ],
   "source": [
    "# success iff recovery ^ error commutes with logicals\n",
    "print(pt.bsp(recovery ^ error, my_code.logicals.T))"
   ]
  },
  {
   "cell_type": "code",
   "execution_count": 8,
   "metadata": {},
   "outputs": [
    {
     "data": {
      "text/html": [
       "<div class=\"highlight\"><pre style=\"line-height:1!important; font-family: 'Courier New', monospace;\">recovery ^ error:\n",
       "·─┬─·─┬─·─┬─·─┬─·─┬─<span style=\"color:blue; font-weight:bold\">Z</span>─┬─<span style=\"color:blue; font-weight:bold\">Z</span>\n",
       "  ·   ·   ·   ·   <span style=\"color:blue; font-weight:bold\">Z</span>   ·  \n",
       "·─┼─·─┼─·─┼─·─┼─·─┼─<span style=\"color:blue; font-weight:bold\">Z</span>─┼─<span style=\"color:blue; font-weight:bold\">Z</span>\n",
       "  ·   ·   ·   ·   ·   ·  \n",
       "·─┼─·─┼─·─┼─·─┼─·─┼─·─┼─·\n",
       "  ·   ·   ·   ·   ·   ·  \n",
       "·─┼─·─┼─·─┼─·─┼─·─┼─·─┼─·\n",
       "  ·   ·   ·   ·   ·   ·  \n",
       "·─┼─·─┼─·─┼─·─┼─<span style=\"color:blue; font-weight:bold\">Z</span>─┼─<span style=\"color:blue; font-weight:bold\">Z</span>─┼─<span style=\"color:blue; font-weight:bold\">Z</span>\n",
       "  ·   ·   ·   <span style=\"color:blue; font-weight:bold\">Z</span>   ·   ·  \n",
       "<span style=\"color:blue; font-weight:bold\">Z</span>─┼─<span style=\"color:blue; font-weight:bold\">Z</span>─┼─·─┼─·─┼─<span style=\"color:blue; font-weight:bold\">Z</span>─┼─<span style=\"color:blue; font-weight:bold\">Z</span>─┼─<span style=\"color:blue; font-weight:bold\">Z</span>\n",
       "  ·   <span style=\"color:blue; font-weight:bold\">Z</span>   ·   ·   ·   ·  \n",
       "<span style=\"color:blue; font-weight:bold\">Z</span>─┴─<span style=\"color:blue; font-weight:bold\">Z</span>─┴─·─┴─·─┴─·─┴─·─┴─·</pre></div>"
      ],
      "text/plain": [
       "<IPython.core.display.HTML object>"
      ]
     },
     "metadata": {},
     "output_type": "display_data"
    }
   ],
   "source": [
    "# couriosity:recovery ^ error\n",
    "qsu.print_pauli('recovery ^ error:\\n{}'.format(my_code.new_pauli(recovery ^ error)))"
   ]
  },
  {
   "cell_type": "code",
   "execution_count": 9,
   "metadata": {},
   "source": [
    "ti_calc_Parallel_spin_encoded(recovery,\n",
    "               error_probability=error_probability,\n",
    "               d=d,\n",
    "               num_int_steps=101,\n",
    "               mcmove_steps_init = 500000, \n",
    "               mcmove_steps_for_derivative=1000,\n",
    "               num_samples=1000)"
   ]
  },
  {
   "cell_type": "code",
   "execution_count": null,
   "metadata": {},
   "outputs": [],
   "source": []
  }
 ],
 "metadata": {
  "kernelspec": {
   "display_name": "ti_qec",
   "language": "python",
   "name": "python3"
  },
  "language_info": {
   "codemirror_mode": {
    "name": "ipython",
    "version": 3
   },
   "file_extension": ".py",
   "mimetype": "text/x-python",
   "name": "python",
   "nbconvert_exporter": "python",
   "pygments_lexer": "ipython3",
   "version": "3.11.5"
  }
 },
 "nbformat": 4,
 "nbformat_minor": 2
}
